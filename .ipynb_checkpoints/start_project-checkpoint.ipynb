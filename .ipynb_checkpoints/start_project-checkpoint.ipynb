{
 "cells": [
  {
   "cell_type": "markdown",
   "metadata": {},
   "source": [
    "\n",
    "# Initial Set Up\n",
    "\n",
    "# macOS:\n",
    "\n",
    "cd django\n",
    "$ python3 -m venv .venv\n",
    "\n",
    "## activeate venv\n",
    "$ source .venv/bin/activate\n",
    "\n",
    "## deactivate\n",
    "(.venv) deactivate"
   ]
  },
  {
   "cell_type": "markdown",
   "metadata": {},
   "source": [
    "## install Django\n",
    "\n",
    "(.venv) (base) sers-MacBook-Pro:django ser$ python -m pip install --upgrade pip\n",
    "\n",
    "(.venv) (base) sers-MacBook-Pro:django ser$ python -m pip install django\n",
    "\n",
    "\n",
    "## Start project\n",
    "\n"
   ]
  },
  {
   "cell_type": "markdown",
   "metadata": {},
   "source": [
    "## Run Server\n",
    "\n",
    "(.venv) (base) sers-MacBook-Pro:django ser$ cd django_project/\n",
    "\n",
    "(.venv) (base) sers-MacBook-Pro:django_project ser$ python3 manage.py runserver\n",
    "\n",
    "Watching for file changes with StatReloader\n",
    "Performing system checks...\n",
    "\n",
    "System check identified no issues (0 silenced).\n",
    "\n",
    "You have 18 unapplied migration(s). Your project may not work properly until you apply the migrations for app(s): admin, auth, contenttypes, sessions.\n",
    "Run 'python manage.py migrate' to apply them.\n",
    "August 17, 2022 - 10:17:21\n",
    "Django version 3.2.15, using settings 'django_project.settings'\n",
    "Starting development server at http://127.0.0.1:8000/\n",
    "Quit the server with CONTROL-C."
   ]
  },
  {
   "cell_type": "markdown",
   "metadata": {},
   "source": [
    "## Git\n",
    "\n",
    "Stopped the local server\n",
    "\n",
    "(.venv) (base) sers-MacBook-Pro:django ser$ git init\n",
    "\n",
    "Initialized empty Git repository in /Users/ser/Documents/Python/django/.git/\n",
    "\n",
    "(.venv) (base) sers-MacBook-Pro:django ser$ git status\n",
    "\n",
    "On branch master\n",
    "\n",
    "No commits yet\n",
    "\n",
    "Untracked files:\n",
    "  (use \"git add <file>...\" to include in what will be committed)\n",
    "\t.DS_Store\n",
    "\t.ipynb_checkpoints/\n",
    "\t.venv/\n",
    "\tdjango_project/\n",
    "\tstart_project.ipynb\n",
    "\n",
    "nothing added to commit but untracked files present (use \"git add\" to track)\n",
    "\n"
   ]
  },
  {
   "cell_type": "markdown",
   "metadata": {},
   "source": [
    "Create file: .gitignore:\n",
    "\n",
    ".venv/"
   ]
  },
  {
   "cell_type": "markdown",
   "metadata": {},
   "source": [
    "(.venv) (base) sers-MacBook-Pro:django ser$ pip freeze > requirements.txt\n"
   ]
  },
  {
   "cell_type": "markdown",
   "metadata": {},
   "source": [
    "(.venv) (base) sers-MacBook-Pro:django ser$ git add -A\n",
    "\n",
    "(.venv) (base) sers-MacBook-Pro:django ser$ git commit -m \"initial commit\"\n"
   ]
  },
  {
   "cell_type": "markdown",
   "metadata": {},
   "source": [
    "(.venv) (base) sers-MacBook-Pro:django_project ser$ python3 manage.py migrate\n"
   ]
  },
  {
   "cell_type": "code",
   "execution_count": null,
   "metadata": {},
   "outputs": [],
   "source": []
  }
 ],
 "metadata": {
  "kernelspec": {
   "display_name": "Python 3",
   "language": "python",
   "name": "python3"
  },
  "language_info": {
   "codemirror_mode": {
    "name": "ipython",
    "version": 3
   },
   "file_extension": ".py",
   "mimetype": "text/x-python",
   "name": "python",
   "nbconvert_exporter": "python",
   "pygments_lexer": "ipython3",
   "version": "3.7.6"
  }
 },
 "nbformat": 4,
 "nbformat_minor": 4
}
